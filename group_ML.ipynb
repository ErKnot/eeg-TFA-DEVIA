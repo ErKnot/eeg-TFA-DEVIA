{
 "cells": [
  {
   "cell_type": "code",
   "execution_count": 1,
   "metadata": {},
   "outputs": [],
   "source": [
    "import numpy as np\n",
    "import matplotlib.pyplot as plt\n",
    "from matplotlib import gridspec\n",
    "\n",
    "# mne library to analyse EEG\n",
    "import mne\n",
    "from mne import Epochs, pick_types\n",
    "from mne.channels import make_standard_montage\n",
    "from mne.datasets import eegbci\n",
    "from mne.decoding import CSP\n",
    "from mne.io import concatenate_raws, read_raw_edf\n",
    "from mne.decoding import Vectorizer\n",
    "mne.set_log_level('error') # Avoid long log\n",
    "\n",
    "\n",
    "from sklearn.preprocessing import StandardScaler\n",
    "from sklearn.pipeline import make_pipeline\n",
    "from sklearn.model_selection import cross_val_score, train_test_split, GridSearchCV, StratifiedKFold, cross_val_predict\n",
    "from sklearn.metrics import precision_recall_fscore_support, accuracy_score\n",
    "\n",
    "from scipy import stats\n",
    "\n",
    "# Models\n",
    "from sklearn import svm\n",
    "from sklearn.discriminant_analysis import LinearDiscriminantAnalysis\n",
    "from sklearn.linear_model import LogisticRegression"
   ]
  },
  {
   "cell_type": "code",
   "execution_count": 2,
   "metadata": {},
   "outputs": [],
   "source": [
    "# Create a list with each tipe of experimental run\n",
    "openeye_runs = [1]\n",
    "closedeye_runs = [2]\n",
    "fists_runs = [3, 7, 11]\n",
    "imaginefists_runs = [4, 8, 12]\n",
    "fistsfeet_runs = [5, 9, 13]\n",
    "imaginefistsfeet_run = [6, 10, 14]\n",
    "\n",
    "# List with the ID of each participant\n",
    "participants = [_ for _ in range(1,110)]\n",
    "\n",
    "\n",
    "# Defining the EEG standard EEG bands. These are indicative situation in which we see appearing this type of waves on healty subjects.\n",
    "delta_waves = {\n",
    "    'freq_min': 0.5,\n",
    "    'f_max': 4\n",
    "} # normally occur during deep sleep\n",
    "\n",
    "theta_waves = {\n",
    "    'freq_min': 4,\n",
    "    'freq_max': 8\n",
    "} # transiently during sleep\n",
    "\n",
    "alpha_waves = {\n",
    "    'freq_min': 8, \n",
    "    'freq_max': 13\n",
    "} # relaxed but awake state, resting with the eyes closed\n",
    "\n",
    "beta_waves = {\n",
    "    'freq_min': 13, \n",
    "    'freq_max': 30   \n",
    "} # attention to tasks or stimuli,logical thinking\n",
    "\n",
    "gamma_waves = {\n",
    "    'freq_min': 30, \n",
    "    'freq_max': 70  \n",
    "} # large-scale brain network activity and cognitive phenomena such as working memory, attention\n",
    "\n"
   ]
  },
  {
   "cell_type": "code",
   "execution_count": 3,
   "metadata": {},
   "outputs": [],
   "source": [
    "# Charging the data\n",
    "participant = 14\n",
    "\n",
    "# Get the path to the data\n",
    "def file_path(participant, run):\n",
    "    return f'files/S{participant:03}/S{participant:03}R{run:02}.edf'\n",
    "\n",
    "# Load the data\n",
    "# Preload = True charges also the data, not just the headers\n",
    "# raw = concatenate_raws([read_raw_edf(file_path(participant, run), preload = True) for run in fists_runs])"
   ]
  },
  {
   "cell_type": "code",
   "execution_count": 4,
   "metadata": {},
   "outputs": [],
   "source": [
    "raws = [read_raw_edf(file_path(participant, 3)) for participant in range(1,10)]"
   ]
  },
  {
   "cell_type": "code",
   "execution_count": 5,
   "metadata": {},
   "outputs": [],
   "source": [
    "# We choose the \"Standard_1020\" montage\n",
    "\n",
    "montage = mne.channels.make_standard_montage(\"standard_1020\")\n",
    "\n",
    "\n",
    "# Here we change the names of the electrode to match the standard notation and set the choosen montage on the raw data charged.\n",
    "\n",
    "# Dictionary with the structure old_name : correct_cases_name. To respect the upper and lower cases of the standard notation for the electrde's position.\n",
    "replacement = {\n",
    "    'Fc': 'FC',\n",
    "    'Cp': 'CP',\n",
    "    'Af': 'AF',\n",
    "    'Ft': 'FT',\n",
    "    'Tp': 'TP',\n",
    "    'Po': 'PO'   \n",
    "}\n",
    "\n",
    "# new_name is the dictionary to use to cange the name of the electrode's positions to respect the usual sandard notataions.\n",
    "# First get rid of the excessive \".\" \n",
    "new_names = {\n",
    "    name : name.replace(\".\", \"\") for name in raws[0].info['ch_names']\n",
    "}   \n",
    "\n",
    "# Change the lower and upper case of the electrode's names\n",
    "for key in new_names.keys():\n",
    "    for old_string, new_string in replacement.items():\n",
    "        new_names[key] = new_names[key].replace(old_string, new_string)\n",
    "\n",
    "# Choose the montage and set it for the uploaded data\n",
    "# montage = 'standard_1020'\n",
    "for raw in raws:\n",
    "    raw.rename_channels(new_names)\n",
    "    raw.set_montage(montage)\n",
    "\n"
   ]
  },
  {
   "cell_type": "code",
   "execution_count": 6,
   "metadata": {},
   "outputs": [],
   "source": [
    "low_cut = 0.1 # We filter the low frequency to remove slow drift\n",
    "high_cut = 30 # We filter the high frequency to eliminate noise, and because the motor signals appears mostly as alpha and beta waves\n",
    "\n",
    "# copy the raw data and apply the filter\n",
    "raws_filt = [raw.load_data().copy().filter(low_cut, high_cut) for raw in raws]"
   ]
  },
  {
   "cell_type": "code",
   "execution_count": 7,
   "metadata": {},
   "outputs": [],
   "source": [
    "tmin =  -1.  # start of each epoch (in sec)\n",
    "tmax =  4.1  # end of each epoch (in sec)\n",
    "baseline = (-1, 0) # for the baseline correction we choose the interval that reflect the resting state before the event\n",
    "\n",
    "# Making it easyer to read the events\n",
    "event_mapping = {\n",
    "    1: 'rest',\n",
    "    2: 'left_fist',\n",
    "    3: 'right_fist'\n",
    "}\n",
    "event_id = {v:k for k,v in event_mapping.items()}\n",
    "\n",
    "epochs = [\n",
    "    Epochs(raw_filt, mne.events_from_annotations(raw_filt)[0], event_id, tmin=tmin, tmax=tmax, baseline= baseline)\n",
    "    for raw_filt in raws_filt\n",
    "]"
   ]
  },
  {
   "cell_type": "markdown",
   "metadata": {},
   "source": [
    "rememeber to eliminate subjects 88, 92, 100 because the experiments have been done using differents timings"
   ]
  },
  {
   "cell_type": "code",
   "execution_count": 8,
   "metadata": {},
   "outputs": [],
   "source": [
    "\n",
    "labels = [epoch.events[:,-1] for epoch in epochs]\n",
    "raws_epochs = [epoch.get_data() for epoch in epochs]"
   ]
  },
  {
   "cell_type": "code",
   "execution_count": null,
   "metadata": {},
   "outputs": [
    {
     "name": "stdout",
     "output_type": "stream",
     "text": [
      "654 subject in position 87\n",
      "654 subject in position 91\n",
      "654 subject in position 99\n"
     ]
    }
   ],
   "source": [
    "for i in range(len(raws_filt)):\n",
    "    if raws_filt[i].shape[2] != 817:\n",
    "        print(raws_filt[i].shape[] , 'subject in position', i )"
   ]
  },
  {
   "cell_type": "code",
   "execution_count": 9,
   "metadata": {},
   "outputs": [],
   "source": [
    "data = [epoch.get_data() for epoch in epochs]\n",
    "labels = [epoch.events[:,-1] for epoch in epochs]"
   ]
  },
  {
   "cell_type": "code",
   "execution_count": 10,
   "metadata": {},
   "outputs": [
    {
     "name": "stdout",
     "output_type": "stream",
     "text": [
      "(29, 64, 817)\n",
      "(28, 64, 817)\n",
      "(29, 64, 817)\n",
      "(28, 64, 817)\n",
      "(28, 64, 817)\n",
      "(28, 64, 817)\n",
      "(29, 64, 817)\n",
      "(28, 64, 817)\n",
      "(28, 64, 817)\n"
     ]
    }
   ],
   "source": [
    "for i in data:\n",
    "    print(i.shape)"
   ]
  },
  {
   "cell_type": "code",
   "execution_count": 11,
   "metadata": {},
   "outputs": [],
   "source": [
    "X = np.concatenate(data, axis = 0)\n",
    "y = np.concatenate(labels)"
   ]
  },
  {
   "cell_type": "code",
   "execution_count": 14,
   "metadata": {},
   "outputs": [
    {
     "name": "stdout",
     "output_type": "stream",
     "text": [
      "X shape (255, 64, 817)\n",
      "y shape (255,)\n"
     ]
    }
   ],
   "source": [
    "print('X shape', X.shape)\n",
    "print('y shape', y.shape)"
   ]
  },
  {
   "cell_type": "code",
   "execution_count": 105,
   "metadata": {},
   "outputs": [
    {
     "name": "stdout",
     "output_type": "stream",
     "text": [
      "-6.20620336508404e-05\n",
      "-8.182442426522105e-05\n",
      "-7.161551098853623e-05\n",
      "-4.0339538447180534e-05\n",
      "-9.205146280631682e-06\n",
      "6.814036612374151e-06\n",
      "6.607751441151636e-06\n",
      "-3.1586807543384517e-06\n",
      "-1.533727737955922e-05\n",
      "-2.3085456083235042e-05\n",
      "-1.999675102612292e-05\n",
      "-5.471825705648514e-06\n",
      "1.1460499395136669e-05\n",
      "1.9352248258763882e-05\n",
      "1.6757987439230225e-05\n",
      "1.3230631126082594e-05\n",
      "1.5682016277715548e-05\n",
      "1.8410362257705626e-05\n",
      "1.2185315534966168e-05\n",
      "9.168305492517619e-07\n",
      "1.0484260626577472e-06\n",
      "2.091867423711383e-05\n",
      "4.669716626697539e-05\n",
      "5.57870789041648e-05\n",
      "4.242051903250098e-05\n",
      "2.2827576617740745e-05\n",
      "1.3708132754532219e-05\n",
      "1.2712316807836866e-05\n",
      "6.0064379224555546e-06\n",
      "-9.000922242370547e-06\n",
      "-1.7399568809462985e-05\n",
      "-5.34590023675676e-06\n",
      "2.136499868547174e-05\n",
      "4.2613582476301424e-05\n",
      "4.560590961146256e-05\n",
      "3.5742285664130755e-05\n",
      "2.564350511542425e-05\n",
      "1.891763229274564e-05\n",
      "9.009874748903339e-06\n",
      "-7.6019828641584594e-06\n",
      "-2.2163686333879186e-05\n",
      "-2.0669986875295122e-05\n",
      "2.577566290030404e-07\n",
      "2.6519089982511098e-05\n",
      "3.776716073358793e-05\n",
      "2.717147916671864e-05\n",
      "9.715373400389834e-06\n",
      "8.60761242454246e-06\n",
      "3.1833860371121513e-05\n",
      "6.33372460097512e-05\n",
      "7.948566862312395e-05\n",
      "7.327633871363415e-05\n",
      "5.881504485055265e-05\n",
      "5.1331023490748606e-05\n",
      "4.785488434655392e-05\n",
      "3.29105259840642e-05\n",
      "1.4945545624052978e-06\n",
      "-3.0499159623561738e-05\n",
      "-4.160711811707369e-05\n",
      "-2.6285518627524745e-05\n",
      "2.758568513676531e-06\n",
      "3.0141288030927947e-05\n",
      "4.901992947081355e-05\n",
      "5.758240690413911e-05\n",
      "5.348926037087976e-05\n",
      "3.800970910609982e-05\n",
      "2.1219335052464995e-05\n",
      "1.4402466754712567e-05\n",
      "1.643095705246953e-05\n",
      "1.4857913733499312e-05\n",
      "4.0860894384134975e-06\n",
      "-3.6794691473421396e-06\n",
      "7.248468232865935e-06\n",
      "3.311577070086358e-05\n",
      "5.077994742021692e-05\n",
      "4.352179981981513e-05\n",
      "2.0364494767933644e-05\n",
      "4.196541387513418e-06\n",
      "4.751936454360133e-06\n",
      "1.1029627390516376e-05\n",
      "1.0187620646582948e-05\n",
      "5.566912877866312e-06\n",
      "1.0770652586137676e-05\n",
      "3.0209830563196603e-05\n",
      "5.238082624913262e-05\n",
      "6.252856995827782e-05\n",
      "5.7190561179441396e-05\n",
      "4.473090140961209e-05\n",
      "3.516736148992227e-05\n",
      "3.224381293920781e-05\n",
      "3.3684148339688126e-05\n",
      "3.6700748002090054e-05\n",
      "4.3482866922113565e-05\n",
      "6.163794825202518e-05\n",
      "9.628184037011305e-05\n",
      "0.00013819006808066288\n",
      "0.0001619307726627667\n",
      "0.00014320384209722824\n",
      "8.28630946460742e-05\n",
      "1.1231007534600002e-05\n"
     ]
    }
   ],
   "source": [
    "for i in data_vec[1][-100:]:\n",
    "    print(i)"
   ]
  },
  {
   "cell_type": "code",
   "execution_count": 63,
   "metadata": {},
   "outputs": [
    {
     "data": {
      "text/plain": [
       "(29, 52288)"
      ]
     },
     "execution_count": 63,
     "metadata": {},
     "output_type": "execute_result"
    }
   ],
   "source": [
    "data_vec.shape"
   ]
  },
  {
   "cell_type": "code",
   "execution_count": 108,
   "metadata": {},
   "outputs": [
    {
     "ename": "TypeError",
     "evalue": "Singleton array array(<generator object <genexpr> at 0x739df5dc5d80>, dtype=object) cannot be considered a valid collection.",
     "output_type": "error",
     "traceback": [
      "\u001b[0;31m---------------------------------------------------------------------------\u001b[0m",
      "\u001b[0;31mTypeError\u001b[0m                                 Traceback (most recent call last)",
      "Cell \u001b[0;32mIn[108], line 1\u001b[0m\n\u001b[0;32m----> 1\u001b[0m data_train, data_test, labels_train, labels_test \u001b[38;5;241m=\u001b[39m \u001b[43mtrain_test_split\u001b[49m\u001b[43m(\u001b[49m\u001b[43mdata\u001b[49m\u001b[43m,\u001b[49m\u001b[43m \u001b[49m\u001b[43mlabels\u001b[49m\u001b[43m,\u001b[49m\u001b[43m \u001b[49m\u001b[43mtest_size\u001b[49m\u001b[38;5;241;43m=\u001b[39;49m\u001b[38;5;241;43m0.3\u001b[39;49m\u001b[43m,\u001b[49m\u001b[43m \u001b[49m\u001b[43mrandom_state\u001b[49m\u001b[38;5;241;43m=\u001b[39;49m\u001b[38;5;241;43m0\u001b[39;49m\u001b[43m)\u001b[49m\n",
      "File \u001b[0;32m~/anaconda3/envs/mne/lib/python3.12/site-packages/sklearn/utils/_param_validation.py:213\u001b[0m, in \u001b[0;36mvalidate_params.<locals>.decorator.<locals>.wrapper\u001b[0;34m(*args, **kwargs)\u001b[0m\n\u001b[1;32m    207\u001b[0m \u001b[38;5;28;01mtry\u001b[39;00m:\n\u001b[1;32m    208\u001b[0m     \u001b[38;5;28;01mwith\u001b[39;00m config_context(\n\u001b[1;32m    209\u001b[0m         skip_parameter_validation\u001b[38;5;241m=\u001b[39m(\n\u001b[1;32m    210\u001b[0m             prefer_skip_nested_validation \u001b[38;5;129;01mor\u001b[39;00m global_skip_validation\n\u001b[1;32m    211\u001b[0m         )\n\u001b[1;32m    212\u001b[0m     ):\n\u001b[0;32m--> 213\u001b[0m         \u001b[38;5;28;01mreturn\u001b[39;00m \u001b[43mfunc\u001b[49m\u001b[43m(\u001b[49m\u001b[38;5;241;43m*\u001b[39;49m\u001b[43margs\u001b[49m\u001b[43m,\u001b[49m\u001b[43m \u001b[49m\u001b[38;5;241;43m*\u001b[39;49m\u001b[38;5;241;43m*\u001b[39;49m\u001b[43mkwargs\u001b[49m\u001b[43m)\u001b[49m\n\u001b[1;32m    214\u001b[0m \u001b[38;5;28;01mexcept\u001b[39;00m InvalidParameterError \u001b[38;5;28;01mas\u001b[39;00m e:\n\u001b[1;32m    215\u001b[0m     \u001b[38;5;66;03m# When the function is just a wrapper around an estimator, we allow\u001b[39;00m\n\u001b[1;32m    216\u001b[0m     \u001b[38;5;66;03m# the function to delegate validation to the estimator, but we replace\u001b[39;00m\n\u001b[1;32m    217\u001b[0m     \u001b[38;5;66;03m# the name of the estimator by the name of the function in the error\u001b[39;00m\n\u001b[1;32m    218\u001b[0m     \u001b[38;5;66;03m# message to avoid confusion.\u001b[39;00m\n\u001b[1;32m    219\u001b[0m     msg \u001b[38;5;241m=\u001b[39m re\u001b[38;5;241m.\u001b[39msub(\n\u001b[1;32m    220\u001b[0m         \u001b[38;5;124mr\u001b[39m\u001b[38;5;124m\"\u001b[39m\u001b[38;5;124mparameter of \u001b[39m\u001b[38;5;124m\\\u001b[39m\u001b[38;5;124mw+ must be\u001b[39m\u001b[38;5;124m\"\u001b[39m,\n\u001b[1;32m    221\u001b[0m         \u001b[38;5;124mf\u001b[39m\u001b[38;5;124m\"\u001b[39m\u001b[38;5;124mparameter of \u001b[39m\u001b[38;5;132;01m{\u001b[39;00mfunc\u001b[38;5;241m.\u001b[39m\u001b[38;5;18m__qualname__\u001b[39m\u001b[38;5;132;01m}\u001b[39;00m\u001b[38;5;124m must be\u001b[39m\u001b[38;5;124m\"\u001b[39m,\n\u001b[1;32m    222\u001b[0m         \u001b[38;5;28mstr\u001b[39m(e),\n\u001b[1;32m    223\u001b[0m     )\n",
      "File \u001b[0;32m~/anaconda3/envs/mne/lib/python3.12/site-packages/sklearn/model_selection/_split.py:2782\u001b[0m, in \u001b[0;36mtrain_test_split\u001b[0;34m(test_size, train_size, random_state, shuffle, stratify, *arrays)\u001b[0m\n\u001b[1;32m   2779\u001b[0m \u001b[38;5;28;01mif\u001b[39;00m n_arrays \u001b[38;5;241m==\u001b[39m \u001b[38;5;241m0\u001b[39m:\n\u001b[1;32m   2780\u001b[0m     \u001b[38;5;28;01mraise\u001b[39;00m \u001b[38;5;167;01mValueError\u001b[39;00m(\u001b[38;5;124m\"\u001b[39m\u001b[38;5;124mAt least one array required as input\u001b[39m\u001b[38;5;124m\"\u001b[39m)\n\u001b[0;32m-> 2782\u001b[0m arrays \u001b[38;5;241m=\u001b[39m \u001b[43mindexable\u001b[49m\u001b[43m(\u001b[49m\u001b[38;5;241;43m*\u001b[39;49m\u001b[43marrays\u001b[49m\u001b[43m)\u001b[49m\n\u001b[1;32m   2784\u001b[0m n_samples \u001b[38;5;241m=\u001b[39m _num_samples(arrays[\u001b[38;5;241m0\u001b[39m])\n\u001b[1;32m   2785\u001b[0m n_train, n_test \u001b[38;5;241m=\u001b[39m _validate_shuffle_split(\n\u001b[1;32m   2786\u001b[0m     n_samples, test_size, train_size, default_test_size\u001b[38;5;241m=\u001b[39m\u001b[38;5;241m0.25\u001b[39m\n\u001b[1;32m   2787\u001b[0m )\n",
      "File \u001b[0;32m~/anaconda3/envs/mne/lib/python3.12/site-packages/sklearn/utils/validation.py:514\u001b[0m, in \u001b[0;36mindexable\u001b[0;34m(*iterables)\u001b[0m\n\u001b[1;32m    484\u001b[0m \u001b[38;5;250m\u001b[39m\u001b[38;5;124;03m\"\"\"Make arrays indexable for cross-validation.\u001b[39;00m\n\u001b[1;32m    485\u001b[0m \n\u001b[1;32m    486\u001b[0m \u001b[38;5;124;03mChecks consistent length, passes through None, and ensures that everything\u001b[39;00m\n\u001b[0;32m   (...)\u001b[0m\n\u001b[1;32m    510\u001b[0m \u001b[38;5;124;03m[[1, 2, 3], array([2, 3, 4]), None, <...Sparse...dtype 'int64'...shape (3, 1)>]\u001b[39;00m\n\u001b[1;32m    511\u001b[0m \u001b[38;5;124;03m\"\"\"\u001b[39;00m\n\u001b[1;32m    513\u001b[0m result \u001b[38;5;241m=\u001b[39m [_make_indexable(X) \u001b[38;5;28;01mfor\u001b[39;00m X \u001b[38;5;129;01min\u001b[39;00m iterables]\n\u001b[0;32m--> 514\u001b[0m \u001b[43mcheck_consistent_length\u001b[49m\u001b[43m(\u001b[49m\u001b[38;5;241;43m*\u001b[39;49m\u001b[43mresult\u001b[49m\u001b[43m)\u001b[49m\n\u001b[1;32m    515\u001b[0m \u001b[38;5;28;01mreturn\u001b[39;00m result\n",
      "File \u001b[0;32m~/anaconda3/envs/mne/lib/python3.12/site-packages/sklearn/utils/validation.py:454\u001b[0m, in \u001b[0;36mcheck_consistent_length\u001b[0;34m(*arrays)\u001b[0m\n\u001b[1;32m    436\u001b[0m \u001b[38;5;28;01mdef\u001b[39;00m \u001b[38;5;21mcheck_consistent_length\u001b[39m(\u001b[38;5;241m*\u001b[39marrays):\n\u001b[1;32m    437\u001b[0m \u001b[38;5;250m    \u001b[39m\u001b[38;5;124;03m\"\"\"Check that all arrays have consistent first dimensions.\u001b[39;00m\n\u001b[1;32m    438\u001b[0m \n\u001b[1;32m    439\u001b[0m \u001b[38;5;124;03m    Checks whether all objects in arrays have the same shape or length.\u001b[39;00m\n\u001b[0;32m   (...)\u001b[0m\n\u001b[1;32m    451\u001b[0m \u001b[38;5;124;03m    >>> check_consistent_length(a, b)\u001b[39;00m\n\u001b[1;32m    452\u001b[0m \u001b[38;5;124;03m    \"\"\"\u001b[39;00m\n\u001b[0;32m--> 454\u001b[0m     lengths \u001b[38;5;241m=\u001b[39m [\u001b[43m_num_samples\u001b[49m\u001b[43m(\u001b[49m\u001b[43mX\u001b[49m\u001b[43m)\u001b[49m \u001b[38;5;28;01mfor\u001b[39;00m X \u001b[38;5;129;01min\u001b[39;00m arrays \u001b[38;5;28;01mif\u001b[39;00m X \u001b[38;5;129;01mis\u001b[39;00m \u001b[38;5;129;01mnot\u001b[39;00m \u001b[38;5;28;01mNone\u001b[39;00m]\n\u001b[1;32m    455\u001b[0m     uniques \u001b[38;5;241m=\u001b[39m np\u001b[38;5;241m.\u001b[39munique(lengths)\n\u001b[1;32m    456\u001b[0m     \u001b[38;5;28;01mif\u001b[39;00m \u001b[38;5;28mlen\u001b[39m(uniques) \u001b[38;5;241m>\u001b[39m \u001b[38;5;241m1\u001b[39m:\n",
      "File \u001b[0;32m~/anaconda3/envs/mne/lib/python3.12/site-packages/sklearn/utils/validation.py:382\u001b[0m, in \u001b[0;36m_num_samples\u001b[0;34m(x)\u001b[0m\n\u001b[1;32m    380\u001b[0m \u001b[38;5;28;01mif\u001b[39;00m \u001b[38;5;28mhasattr\u001b[39m(x, \u001b[38;5;124m\"\u001b[39m\u001b[38;5;124mshape\u001b[39m\u001b[38;5;124m\"\u001b[39m) \u001b[38;5;129;01mand\u001b[39;00m x\u001b[38;5;241m.\u001b[39mshape \u001b[38;5;129;01mis\u001b[39;00m \u001b[38;5;129;01mnot\u001b[39;00m \u001b[38;5;28;01mNone\u001b[39;00m:\n\u001b[1;32m    381\u001b[0m     \u001b[38;5;28;01mif\u001b[39;00m \u001b[38;5;28mlen\u001b[39m(x\u001b[38;5;241m.\u001b[39mshape) \u001b[38;5;241m==\u001b[39m \u001b[38;5;241m0\u001b[39m:\n\u001b[0;32m--> 382\u001b[0m         \u001b[38;5;28;01mraise\u001b[39;00m \u001b[38;5;167;01mTypeError\u001b[39;00m(\n\u001b[1;32m    383\u001b[0m             \u001b[38;5;124m\"\u001b[39m\u001b[38;5;124mSingleton array \u001b[39m\u001b[38;5;132;01m%r\u001b[39;00m\u001b[38;5;124m cannot be considered a valid collection.\u001b[39m\u001b[38;5;124m\"\u001b[39m \u001b[38;5;241m%\u001b[39m x\n\u001b[1;32m    384\u001b[0m         )\n\u001b[1;32m    385\u001b[0m     \u001b[38;5;66;03m# Check that shape is returning an integer or default to len\u001b[39;00m\n\u001b[1;32m    386\u001b[0m     \u001b[38;5;66;03m# Dask dataframes may not return numeric shape[0] value\u001b[39;00m\n\u001b[1;32m    387\u001b[0m     \u001b[38;5;28;01mif\u001b[39;00m \u001b[38;5;28misinstance\u001b[39m(x\u001b[38;5;241m.\u001b[39mshape[\u001b[38;5;241m0\u001b[39m], numbers\u001b[38;5;241m.\u001b[39mIntegral):\n",
      "\u001b[0;31mTypeError\u001b[0m: Singleton array array(<generator object <genexpr> at 0x739df5dc5d80>, dtype=object) cannot be considered a valid collection."
     ]
    }
   ],
   "source": [
    "data_train, data_test, labels_train, labels_test = train_test_split(data, labels, test_size=0.3, random_state=0)"
   ]
  },
  {
   "cell_type": "code",
   "execution_count": 44,
   "metadata": {},
   "outputs": [],
   "source": [
    "clf_lda_pip = make_pipeline(Vectorizer(), StandardScaler(), LinearDiscriminantAnalysis(solver='svd'))"
   ]
  },
  {
   "cell_type": "code",
   "execution_count": null,
   "metadata": {},
   "outputs": [],
   "source": []
  },
  {
   "cell_type": "code",
   "execution_count": 52,
   "metadata": {},
   "outputs": [],
   "source": [
    "clf_lda_pip = make_pipeline(Vectorizer(), StandardScaler(), LinearDiscriminantAnalysis(solver='svd'))"
   ]
  },
  {
   "cell_type": "code",
   "execution_count": null,
   "metadata": {},
   "outputs": [],
   "source": [
    "clf_lda_pip"
   ]
  },
  {
   "cell_type": "code",
   "execution_count": 23,
   "metadata": {},
   "outputs": [],
   "source": [
    "def applyCrossValidation(models, model_names, data, labels, kfold):\n",
    "    results = []\n",
    "    if np.all(np.isfinite(data)) == True and np.any(np.isnan(data)) == False:\n",
    "        for i in range(len(models)):\n",
    "            #print(model_names[i])\n",
    "            cv_accuracy = cross_val_score(models[i], data, labels, cv=kfold)\n",
    "            results.append(cv_accuracy)\n",
    "            #print('CV accuracy of model ' + model_names[i] + ': ' + str(cv_accuracy))\n",
    "            \n",
    "    else:\n",
    "        print('Data has infinite or NaN value!')\n",
    "    \n",
    "    return results\n"
   ]
  },
  {
   "cell_type": "code",
   "execution_count": 46,
   "metadata": {},
   "outputs": [],
   "source": [
    "results_perParticipant_UP = []\n",
    "model_names = [ 'LR', 'LDA'] \n",
    "kfold = StratifiedKFold(n_splits=3, random_state=42, shuffle=True)\n",
    "for i in range(len(data_train)):\n",
    "    # Linear Discriminant Analysis\n",
    "    clf_lda_pip = make_pipeline(Vectorizer(), StandardScaler(), LinearDiscriminantAnalysis(solver='svd'))\n",
    "    #Logistic Regression\n",
    "    clf_lr_pip = make_pipeline(Vectorizer(), StandardScaler(), LogisticRegression(penalty='l1', solver='liblinear', random_state=42))\n",
    "    \n",
    "    models = [ clf_lr_pip, clf_lda_pip]\n",
    "    scores = applyCrossValidation(models, model_names, data_train[i], labels_train[i], kfold)\n",
    "    results_perParticipant_UP.append(scores)\n"
   ]
  },
  {
   "cell_type": "code",
   "execution_count": 51,
   "metadata": {},
   "outputs": [
    {
     "data": {
      "text/plain": [
       "[[array([0.3       , 0.5       , 0.44444444]),\n",
       "  array([0.4       , 0.6       , 0.55555556])],\n",
       " [array([0.6       , 0.55555556, 0.55555556]),\n",
       "  array([0.4       , 0.55555556, 0.66666667])],\n",
       " [array([0.6       , 0.55555556, 0.33333333]),\n",
       "  array([0.5       , 0.33333333, 0.44444444])],\n",
       " [array([0.4       , 0.44444444, 0.77777778]),\n",
       "  array([0.3       , 0.55555556, 0.66666667])],\n",
       " [array([0.5       , 0.66666667, 0.66666667]),\n",
       "  array([0.4       , 0.55555556, 0.55555556])],\n",
       " [array([0.6       , 0.77777778, 0.77777778]),\n",
       "  array([0.5       , 0.77777778, 0.77777778])],\n",
       " [array([0.2       , 0.66666667, 0.33333333]),\n",
       "  array([0.4       , 0.44444444, 0.44444444])],\n",
       " [array([0.4       , 0.66666667, 0.66666667]),\n",
       "  array([0.4       , 0.77777778, 0.33333333])],\n",
       " [array([0.3       , 0.55555556, 0.55555556]),\n",
       "  array([0.4       , 0.44444444, 0.22222222])],\n",
       " [array([0.3       , 0.44444444, 0.22222222]),\n",
       "  array([0.4       , 0.44444444, 0.44444444])],\n",
       " [array([0.5       , 0.44444444, 0.44444444]),\n",
       "  array([0.4       , 0.55555556, 0.55555556])],\n",
       " [array([0.2       , 0.33333333, 0.55555556]),\n",
       "  array([0.4       , 0.55555556, 0.66666667])],\n",
       " [array([0.6       , 0.55555556, 0.88888889]),\n",
       "  array([0.4       , 0.55555556, 0.55555556])],\n",
       " [array([0.4       , 0.77777778, 0.44444444]),\n",
       "  array([0.5       , 0.55555556, 0.33333333])],\n",
       " [array([0.5       , 0.66666667, 0.55555556]),\n",
       "  array([0.4       , 0.55555556, 0.55555556])],\n",
       " [array([0.3       , 0.44444444, 0.22222222]),\n",
       "  array([0.4       , 0.44444444, 0.55555556])],\n",
       " [array([0.4       , 0.33333333, 0.66666667]),\n",
       "  array([0.5       , 0.66666667, 0.44444444])],\n",
       " [array([0.5       , 0.33333333, 0.77777778]),\n",
       "  array([0.5       , 0.55555556, 0.44444444])],\n",
       " [array([0.5       , 1.        , 0.66666667]),\n",
       "  array([0.4       , 0.66666667, 0.66666667])],\n",
       " [array([0.6       , 0.66666667, 0.55555556]),\n",
       "  array([0.4       , 0.55555556, 0.55555556])],\n",
       " [array([0.4       , 0.55555556, 0.33333333]),\n",
       "  array([0.4       , 0.55555556, 0.22222222])],\n",
       " [array([0.125     , 0.375     , 0.28571429]),\n",
       "  array([0.5       , 0.5       , 0.42857143])],\n",
       " [array([0.7       , 0.8       , 0.77777778]),\n",
       "  array([0.7       , 0.8       , 0.77777778])],\n",
       " [array([0.6       , 0.5       , 0.66666667]),\n",
       "  array([0.5       , 0.6       , 0.55555556])],\n",
       " [array([0.5       , 0.7       , 0.66666667]),\n",
       "  array([0.5       , 0.4       , 0.55555556])],\n",
       " [array([0.2       , 0.5       , 0.22222222]),\n",
       "  array([0.5       , 0.6       , 0.33333333])],\n",
       " [array([0.5       , 0.55555556, 0.66666667]),\n",
       "  array([0.4       , 0.55555556, 0.55555556])],\n",
       " [array([0.7       , 0.66666667, 0.44444444]),\n",
       "  array([0.5       , 0.55555556, 0.44444444])],\n",
       " [array([0.6       , 0.88888889, 0.55555556]),\n",
       "  array([0.4       , 0.55555556, 0.66666667])],\n",
       " [array([0.5       , 0.77777778, 0.55555556]),\n",
       "  array([0.4       , 0.55555556, 0.55555556])],\n",
       " [array([0.7       , 0.66666667, 0.44444444]),\n",
       "  array([0.4       , 0.55555556, 0.55555556])],\n",
       " [array([0.5       , 0.55555556, 0.66666667]),\n",
       "  array([0.4       , 0.88888889, 0.55555556])],\n",
       " [array([0.7       , 0.7       , 0.88888889]),\n",
       "  array([0.5       , 0.8       , 0.77777778])],\n",
       " [array([0.5       , 0.44444444, 0.77777778]),\n",
       "  array([0.4       , 0.55555556, 0.44444444])],\n",
       " [array([0.5       , 0.66666667, 0.55555556]),\n",
       "  array([0.4       , 0.55555556, 0.44444444])],\n",
       " [array([0.4       , 0.6       , 0.22222222]),\n",
       "  array([0.5       , 0.4       , 0.55555556])],\n",
       " [array([0.4       , 0.33333333, 0.55555556]),\n",
       "  array([0.4       , 0.44444444, 0.55555556])],\n",
       " [array([0.8       , 0.44444444, 0.88888889]),\n",
       "  array([0.4       , 0.55555556, 0.66666667])],\n",
       " [array([0.61538462, 0.5       , 0.66666667]),\n",
       "  array([0.53846154, 0.5       , 0.58333333])],\n",
       " [array([0.3       , 0.22222222, 0.66666667]),\n",
       "  array([0.4       , 0.55555556, 0.55555556])],\n",
       " [array([0.5       , 0.44444444, 0.66666667]),\n",
       "  array([0.4       , 0.33333333, 0.55555556])],\n",
       " [array([0.7       , 0.77777778, 0.55555556]),\n",
       "  array([0.5       , 0.55555556, 0.44444444])],\n",
       " [array([0.1       , 0.5       , 0.55555556]),\n",
       "  array([0.3       , 0.4       , 0.44444444])],\n",
       " [array([0.3       , 0.44444444, 0.44444444]),\n",
       "  array([0.4       , 0.44444444, 0.44444444])],\n",
       " [array([0.6       , 0.4       , 0.66666667]),\n",
       "  array([0.6       , 0.4       , 0.33333333])],\n",
       " [array([0.5       , 0.44444444, 0.55555556]),\n",
       "  array([0.4       , 0.44444444, 0.77777778])],\n",
       " [array([0.8       , 0.88888889, 1.        ]),\n",
       "  array([0.5       , 0.55555556, 0.55555556])],\n",
       " [array([0.4       , 0.55555556, 0.44444444]),\n",
       "  array([0.5       , 0.55555556, 0.66666667])],\n",
       " [array([0.3       , 0.5       , 0.22222222]),\n",
       "  array([0.4       , 0.5       , 0.55555556])],\n",
       " [array([0.5       , 0.6       , 0.44444444]),\n",
       "  array([0.7       , 0.6       , 0.33333333])],\n",
       " [array([0.7       , 0.77777778, 0.88888889]),\n",
       "  array([0.5       , 0.77777778, 0.77777778])],\n",
       " [array([0.4       , 0.66666667, 0.55555556]),\n",
       "  array([0.4       , 0.55555556, 0.77777778])],\n",
       " [array([0.6       , 0.55555556, 0.44444444]),\n",
       "  array([0.4       , 0.55555556, 0.44444444])],\n",
       " [array([0.5       , 0.55555556, 0.22222222]),\n",
       "  array([0.4       , 0.55555556, 0.44444444])],\n",
       " [array([0.7       , 0.66666667, 0.88888889]),\n",
       "  array([0.4       , 0.55555556, 0.55555556])],\n",
       " [array([0.4       , 0.7       , 0.55555556]),\n",
       "  array([0.7       , 0.4       , 0.55555556])],\n",
       " [array([0.6       , 0.33333333, 0.66666667]),\n",
       "  array([0.5       , 0.66666667, 0.55555556])],\n",
       " [array([0.2       , 0.33333333, 0.22222222]),\n",
       "  array([0.3       , 0.44444444, 0.55555556])],\n",
       " [array([0.7       , 0.66666667, 0.77777778]),\n",
       "  array([0.5       , 0.66666667, 0.55555556])],\n",
       " [array([0.7       , 0.7       , 0.55555556]),\n",
       "  array([0.5       , 0.4       , 0.66666667])],\n",
       " [array([0.5       , 0.55555556, 0.44444444]),\n",
       "  array([0.5       , 0.55555556, 0.66666667])],\n",
       " [array([0.7       , 0.88888889, 0.55555556]),\n",
       "  array([0.4       , 0.55555556, 0.55555556])],\n",
       " [array([0.4       , 0.44444444, 0.44444444]),\n",
       "  array([0.4       , 0.55555556, 0.55555556])],\n",
       " [array([0.66666667, 0.42857143, 0.78571429]),\n",
       "  array([0.46666667, 0.5       , 0.5       ])],\n",
       " [array([0.7       , 0.5       , 0.22222222]),\n",
       "  array([0.4       , 0.5       , 0.22222222])],\n",
       " [array([0.76923077, 0.58333333, 0.91666667]),\n",
       "  array([0.61538462, 0.58333333, 0.91666667])],\n",
       " [array([0.5       , 0.88888889, 0.66666667]),\n",
       "  array([0.4       , 0.44444444, 0.66666667])],\n",
       " [array([0.8       , 0.8       , 0.88888889]),\n",
       "  array([0.8       , 0.5       , 0.55555556])],\n",
       " [array([0.2       , 0.55555556, 0.44444444]),\n",
       "  array([0.4       , 0.44444444, 0.55555556])],\n",
       " [array([0.6       , 0.88888889, 0.77777778]),\n",
       "  array([0.8       , 0.77777778, 0.66666667])],\n",
       " [array([0.5       , 0.55555556, 0.44444444]),\n",
       "  array([0.5       , 0.55555556, 0.44444444])],\n",
       " [array([0.4       , 0.4       , 0.66666667]),\n",
       "  array([0.5       , 0.7       , 0.44444444])],\n",
       " [array([0.6       , 0.88888889, 0.44444444]),\n",
       "  array([0.4       , 0.77777778, 0.66666667])],\n",
       " [array([0.8       , 0.6       , 0.77777778]),\n",
       "  array([0.5       , 0.5       , 0.77777778])],\n",
       " [array([0.5       , 0.88888889, 0.88888889]),\n",
       "  array([0.6       , 0.55555556, 0.77777778])],\n",
       " [array([0.5       , 0.88888889, 0.44444444]),\n",
       "  array([0.4       , 0.44444444, 0.44444444])]]"
      ]
     },
     "execution_count": 51,
     "metadata": {},
     "output_type": "execute_result"
    }
   ],
   "source": [
    "results_perParticipant_UP"
   ]
  }
 ],
 "metadata": {
  "kernelspec": {
   "display_name": "mne",
   "language": "python",
   "name": "python3"
  },
  "language_info": {
   "codemirror_mode": {
    "name": "ipython",
    "version": 3
   },
   "file_extension": ".py",
   "mimetype": "text/x-python",
   "name": "python",
   "nbconvert_exporter": "python",
   "pygments_lexer": "ipython3",
   "version": "3.12.7"
  }
 },
 "nbformat": 4,
 "nbformat_minor": 2
}
