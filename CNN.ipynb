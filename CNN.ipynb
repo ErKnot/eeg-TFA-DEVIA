{
 "cells": [
  {
   "cell_type": "code",
   "execution_count": 48,
   "metadata": {},
   "outputs": [],
   "source": [
    "# If using google colab\n",
    "# !pip install mne\n",
    "# from google.colab import drive\n",
    "# drive.mount('/content/drive')"
   ]
  },
  {
   "cell_type": "code",
   "execution_count": 71,
   "metadata": {},
   "outputs": [],
   "source": [
    "import numpy as np\n",
    "\n",
    "import mne\n",
    "from mne import read_epochs\n",
    "mne.set_log_level('error')\n",
    "\n",
    "from sklearn.model_selection import train_test_split\n",
    "from sklearn.utils import shuffle\n",
    "\n"
   ]
  },
  {
   "cell_type": "code",
   "execution_count": 72,
   "metadata": {},
   "outputs": [],
   "source": [
    "import mneflow\n",
    "from EEGModels import EEGNet"
   ]
  },
  {
   "cell_type": "code",
   "execution_count": 73,
   "metadata": {},
   "outputs": [],
   "source": [
    "# Path to gogle drive folder with hte data\n",
    "# path = '/content/drive/MyDrive/Colab Notebooks/Project-TFE/files/preprocessing_ica'\n",
    "# Path to personal driver\n",
    "path = 'files/prepocessed_ica'\n",
    "\n",
    "fists_runs = [3, 7, 11]\n",
    "\n",
    "participants = [i for i in range(1, 40) if i not in [88, 92, 100]]\n",
    "\n",
    "data = []\n",
    "labels = []\n",
    "all_epochs_per_subject = []\n",
    "\n",
    "for participant in participants:\n",
    "  participant_data = []\n",
    "  labels_data = []\n",
    "  all_epochs = []\n",
    "  for run in fists_runs:\n",
    "    epochs = read_epochs(path + f\"/S{participant:03}R{run:02}filt01_30_ICA_masref.fif\")\n",
    "    all_epochs.append(epochs)\n",
    "    participant_data.append(epochs.get_data(copy=False))\n",
    "    labels_data.append(epochs.events[:, -1])\n",
    "  data.append(np.concatenate(participant_data))\n",
    "  labels.append(np.concatenate(labels_data))\n",
    "  all_epochs_per_subject.append(all_epochs)"
   ]
  },
  {
   "cell_type": "code",
   "execution_count": 74,
   "metadata": {},
   "outputs": [
    {
     "name": "stdout",
     "output_type": "stream",
     "text": [
      "lenth data:  39\n",
      "lenth labels:  39\n",
      "lenth all_epochs_per_subject:  39\n"
     ]
    }
   ],
   "source": [
    "\n",
    "print(\"lenth data: \", len(data))\n",
    "print(\"lenth labels: \", len(labels))\n",
    "print(\"lenth all_epochs_per_subject: \", len(all_epochs_per_subject))\n",
    "     "
   ]
  },
  {
   "cell_type": "code",
   "execution_count": 75,
   "metadata": {},
   "outputs": [
    {
     "name": "stdout",
     "output_type": "stream",
     "text": [
      "(2520, 64, 817)\n",
      "(2520,)\n"
     ]
    }
   ],
   "source": [
    "data_train, data_test, labels_train, labels_test, epochs_train, epochs_test = train_test_split(data, labels, all_epochs_per_subject, test_size=0.2, random_state=42)\n",
    "\n",
    "\n",
    "X_train = np.concatenate(data_train, axis=0)\n",
    "X_test = np.concatenate(data_test, axis=0)\n",
    "y_train = np.concatenate(labels_train, axis=0)\n",
    "y_test = np.concatenate(labels_test, axis=0)\n",
    "\n",
    "X_train, y_train = shuffle(X_train, y_train, random_state=42)\n",
    "\n",
    "print(X_train.shape)\n",
    "print(y_train.shape)    "
   ]
  },
  {
   "cell_type": "code",
   "execution_count": 76,
   "metadata": {},
   "outputs": [
    {
     "name": "stderr",
     "output_type": "stream",
     "text": [
      "/home/elia/Documents/Dev-A.I./Project-TFE/.venv/lib/python3.12/site-packages/keras/src/layers/convolutional/base_conv.py:107: UserWarning: Do not pass an `input_shape`/`input_dim` argument to a layer. When using Sequential models, prefer using an `Input(shape)` object as the first layer in the model instead.\n",
      "  super().__init__(activity_regularizer=activity_regularizer, **kwargs)\n"
     ]
    }
   ],
   "source": [
    "model = EEGNet(nb_classes = 3, Chans = 64, Samples = 817)"
   ]
  },
  {
   "cell_type": "code",
   "execution_count": 77,
   "metadata": {},
   "outputs": [],
   "source": [
    "model.compile(optimizer='adam', loss='sparse_categorical_crossentropy', metrics=['accuracy'])"
   ]
  },
  {
   "cell_type": "code",
   "execution_count": 78,
   "metadata": {},
   "outputs": [],
   "source": [
    "y_train = y_train - 1"
   ]
  },
  {
   "cell_type": "code",
   "execution_count": 79,
   "metadata": {},
   "outputs": [
    {
     "name": "stdout",
     "output_type": "stream",
     "text": [
      "Epoch 1/10\n",
      "\u001b[1m 35/158\u001b[0m \u001b[32m━━━━\u001b[0m\u001b[37m━━━━━━━━━━━━━━━━\u001b[0m \u001b[1m59s\u001b[0m 487ms/step - accuracy: 0.3747 - loss: 1.0970 "
     ]
    },
    {
     "ename": "KeyboardInterrupt",
     "evalue": "",
     "output_type": "error",
     "traceback": [
      "\u001b[0;31m---------------------------------------------------------------------------\u001b[0m",
      "\u001b[0;31mKeyboardInterrupt\u001b[0m                         Traceback (most recent call last)",
      "Cell \u001b[0;32mIn[79], line 1\u001b[0m\n\u001b[0;32m----> 1\u001b[0m \u001b[43mmodel\u001b[49m\u001b[38;5;241;43m.\u001b[39;49m\u001b[43mfit\u001b[49m\u001b[43m(\u001b[49m\u001b[43mX_train\u001b[49m\u001b[43m,\u001b[49m\u001b[43m \u001b[49m\u001b[43my_train\u001b[49m\u001b[43m,\u001b[49m\u001b[43m \u001b[49m\u001b[43mepochs\u001b[49m\u001b[38;5;241;43m=\u001b[39;49m\u001b[38;5;241;43m10\u001b[39;49m\u001b[43m,\u001b[49m\u001b[43m \u001b[49m\u001b[43mbatch_size\u001b[49m\u001b[38;5;241;43m=\u001b[39;49m\u001b[38;5;241;43m16\u001b[39;49m\u001b[43m)\u001b[49m\n",
      "File \u001b[0;32m~/Documents/Dev-A.I./Project-TFE/.venv/lib/python3.12/site-packages/keras/src/utils/traceback_utils.py:117\u001b[0m, in \u001b[0;36mfilter_traceback.<locals>.error_handler\u001b[0;34m(*args, **kwargs)\u001b[0m\n\u001b[1;32m    115\u001b[0m filtered_tb \u001b[38;5;241m=\u001b[39m \u001b[38;5;28;01mNone\u001b[39;00m\n\u001b[1;32m    116\u001b[0m \u001b[38;5;28;01mtry\u001b[39;00m:\n\u001b[0;32m--> 117\u001b[0m     \u001b[38;5;28;01mreturn\u001b[39;00m \u001b[43mfn\u001b[49m\u001b[43m(\u001b[49m\u001b[38;5;241;43m*\u001b[39;49m\u001b[43margs\u001b[49m\u001b[43m,\u001b[49m\u001b[43m \u001b[49m\u001b[38;5;241;43m*\u001b[39;49m\u001b[38;5;241;43m*\u001b[39;49m\u001b[43mkwargs\u001b[49m\u001b[43m)\u001b[49m\n\u001b[1;32m    118\u001b[0m \u001b[38;5;28;01mexcept\u001b[39;00m \u001b[38;5;167;01mException\u001b[39;00m \u001b[38;5;28;01mas\u001b[39;00m e:\n\u001b[1;32m    119\u001b[0m     filtered_tb \u001b[38;5;241m=\u001b[39m _process_traceback_frames(e\u001b[38;5;241m.\u001b[39m__traceback__)\n",
      "File \u001b[0;32m~/Documents/Dev-A.I./Project-TFE/.venv/lib/python3.12/site-packages/keras/src/backend/tensorflow/trainer.py:320\u001b[0m, in \u001b[0;36mTensorFlowTrainer.fit\u001b[0;34m(self, x, y, batch_size, epochs, verbose, callbacks, validation_split, validation_data, shuffle, class_weight, sample_weight, initial_epoch, steps_per_epoch, validation_steps, validation_batch_size, validation_freq)\u001b[0m\n\u001b[1;32m    318\u001b[0m \u001b[38;5;28;01mfor\u001b[39;00m step, iterator \u001b[38;5;129;01min\u001b[39;00m epoch_iterator\u001b[38;5;241m.\u001b[39menumerate_epoch():\n\u001b[1;32m    319\u001b[0m     callbacks\u001b[38;5;241m.\u001b[39mon_train_batch_begin(step)\n\u001b[0;32m--> 320\u001b[0m     logs \u001b[38;5;241m=\u001b[39m \u001b[38;5;28;43mself\u001b[39;49m\u001b[38;5;241;43m.\u001b[39;49m\u001b[43mtrain_function\u001b[49m\u001b[43m(\u001b[49m\u001b[43miterator\u001b[49m\u001b[43m)\u001b[49m\n\u001b[1;32m    321\u001b[0m     callbacks\u001b[38;5;241m.\u001b[39mon_train_batch_end(step, logs)\n\u001b[1;32m    322\u001b[0m     \u001b[38;5;28;01mif\u001b[39;00m \u001b[38;5;28mself\u001b[39m\u001b[38;5;241m.\u001b[39mstop_training:\n",
      "File \u001b[0;32m~/Documents/Dev-A.I./Project-TFE/.venv/lib/python3.12/site-packages/tensorflow/python/util/traceback_utils.py:150\u001b[0m, in \u001b[0;36mfilter_traceback.<locals>.error_handler\u001b[0;34m(*args, **kwargs)\u001b[0m\n\u001b[1;32m    148\u001b[0m filtered_tb \u001b[38;5;241m=\u001b[39m \u001b[38;5;28;01mNone\u001b[39;00m\n\u001b[1;32m    149\u001b[0m \u001b[38;5;28;01mtry\u001b[39;00m:\n\u001b[0;32m--> 150\u001b[0m   \u001b[38;5;28;01mreturn\u001b[39;00m \u001b[43mfn\u001b[49m\u001b[43m(\u001b[49m\u001b[38;5;241;43m*\u001b[39;49m\u001b[43margs\u001b[49m\u001b[43m,\u001b[49m\u001b[43m \u001b[49m\u001b[38;5;241;43m*\u001b[39;49m\u001b[38;5;241;43m*\u001b[39;49m\u001b[43mkwargs\u001b[49m\u001b[43m)\u001b[49m\n\u001b[1;32m    151\u001b[0m \u001b[38;5;28;01mexcept\u001b[39;00m \u001b[38;5;167;01mException\u001b[39;00m \u001b[38;5;28;01mas\u001b[39;00m e:\n\u001b[1;32m    152\u001b[0m   filtered_tb \u001b[38;5;241m=\u001b[39m _process_traceback_frames(e\u001b[38;5;241m.\u001b[39m__traceback__)\n",
      "File \u001b[0;32m~/Documents/Dev-A.I./Project-TFE/.venv/lib/python3.12/site-packages/tensorflow/python/eager/polymorphic_function/polymorphic_function.py:833\u001b[0m, in \u001b[0;36mFunction.__call__\u001b[0;34m(self, *args, **kwds)\u001b[0m\n\u001b[1;32m    830\u001b[0m compiler \u001b[38;5;241m=\u001b[39m \u001b[38;5;124m\"\u001b[39m\u001b[38;5;124mxla\u001b[39m\u001b[38;5;124m\"\u001b[39m \u001b[38;5;28;01mif\u001b[39;00m \u001b[38;5;28mself\u001b[39m\u001b[38;5;241m.\u001b[39m_jit_compile \u001b[38;5;28;01melse\u001b[39;00m \u001b[38;5;124m\"\u001b[39m\u001b[38;5;124mnonXla\u001b[39m\u001b[38;5;124m\"\u001b[39m\n\u001b[1;32m    832\u001b[0m \u001b[38;5;28;01mwith\u001b[39;00m OptionalXlaContext(\u001b[38;5;28mself\u001b[39m\u001b[38;5;241m.\u001b[39m_jit_compile):\n\u001b[0;32m--> 833\u001b[0m   result \u001b[38;5;241m=\u001b[39m \u001b[38;5;28;43mself\u001b[39;49m\u001b[38;5;241;43m.\u001b[39;49m\u001b[43m_call\u001b[49m\u001b[43m(\u001b[49m\u001b[38;5;241;43m*\u001b[39;49m\u001b[43margs\u001b[49m\u001b[43m,\u001b[49m\u001b[43m \u001b[49m\u001b[38;5;241;43m*\u001b[39;49m\u001b[38;5;241;43m*\u001b[39;49m\u001b[43mkwds\u001b[49m\u001b[43m)\u001b[49m\n\u001b[1;32m    835\u001b[0m new_tracing_count \u001b[38;5;241m=\u001b[39m \u001b[38;5;28mself\u001b[39m\u001b[38;5;241m.\u001b[39mexperimental_get_tracing_count()\n\u001b[1;32m    836\u001b[0m without_tracing \u001b[38;5;241m=\u001b[39m (tracing_count \u001b[38;5;241m==\u001b[39m new_tracing_count)\n",
      "File \u001b[0;32m~/Documents/Dev-A.I./Project-TFE/.venv/lib/python3.12/site-packages/tensorflow/python/eager/polymorphic_function/polymorphic_function.py:878\u001b[0m, in \u001b[0;36mFunction._call\u001b[0;34m(self, *args, **kwds)\u001b[0m\n\u001b[1;32m    875\u001b[0m \u001b[38;5;28mself\u001b[39m\u001b[38;5;241m.\u001b[39m_lock\u001b[38;5;241m.\u001b[39mrelease()\n\u001b[1;32m    876\u001b[0m \u001b[38;5;66;03m# In this case we have not created variables on the first call. So we can\u001b[39;00m\n\u001b[1;32m    877\u001b[0m \u001b[38;5;66;03m# run the first trace but we should fail if variables are created.\u001b[39;00m\n\u001b[0;32m--> 878\u001b[0m results \u001b[38;5;241m=\u001b[39m \u001b[43mtracing_compilation\u001b[49m\u001b[38;5;241;43m.\u001b[39;49m\u001b[43mcall_function\u001b[49m\u001b[43m(\u001b[49m\n\u001b[1;32m    879\u001b[0m \u001b[43m    \u001b[49m\u001b[43margs\u001b[49m\u001b[43m,\u001b[49m\u001b[43m \u001b[49m\u001b[43mkwds\u001b[49m\u001b[43m,\u001b[49m\u001b[43m \u001b[49m\u001b[38;5;28;43mself\u001b[39;49m\u001b[38;5;241;43m.\u001b[39;49m\u001b[43m_variable_creation_config\u001b[49m\n\u001b[1;32m    880\u001b[0m \u001b[43m\u001b[49m\u001b[43m)\u001b[49m\n\u001b[1;32m    881\u001b[0m \u001b[38;5;28;01mif\u001b[39;00m \u001b[38;5;28mself\u001b[39m\u001b[38;5;241m.\u001b[39m_created_variables:\n\u001b[1;32m    882\u001b[0m   \u001b[38;5;28;01mraise\u001b[39;00m \u001b[38;5;167;01mValueError\u001b[39;00m(\u001b[38;5;124m\"\u001b[39m\u001b[38;5;124mCreating variables on a non-first call to a function\u001b[39m\u001b[38;5;124m\"\u001b[39m\n\u001b[1;32m    883\u001b[0m                    \u001b[38;5;124m\"\u001b[39m\u001b[38;5;124m decorated with tf.function.\u001b[39m\u001b[38;5;124m\"\u001b[39m)\n",
      "File \u001b[0;32m~/Documents/Dev-A.I./Project-TFE/.venv/lib/python3.12/site-packages/tensorflow/python/eager/polymorphic_function/tracing_compilation.py:139\u001b[0m, in \u001b[0;36mcall_function\u001b[0;34m(args, kwargs, tracing_options)\u001b[0m\n\u001b[1;32m    137\u001b[0m bound_args \u001b[38;5;241m=\u001b[39m function\u001b[38;5;241m.\u001b[39mfunction_type\u001b[38;5;241m.\u001b[39mbind(\u001b[38;5;241m*\u001b[39margs, \u001b[38;5;241m*\u001b[39m\u001b[38;5;241m*\u001b[39mkwargs)\n\u001b[1;32m    138\u001b[0m flat_inputs \u001b[38;5;241m=\u001b[39m function\u001b[38;5;241m.\u001b[39mfunction_type\u001b[38;5;241m.\u001b[39munpack_inputs(bound_args)\n\u001b[0;32m--> 139\u001b[0m \u001b[38;5;28;01mreturn\u001b[39;00m \u001b[43mfunction\u001b[49m\u001b[38;5;241;43m.\u001b[39;49m\u001b[43m_call_flat\u001b[49m\u001b[43m(\u001b[49m\u001b[43m  \u001b[49m\u001b[38;5;66;43;03m# pylint: disable=protected-access\u001b[39;49;00m\n\u001b[1;32m    140\u001b[0m \u001b[43m    \u001b[49m\u001b[43mflat_inputs\u001b[49m\u001b[43m,\u001b[49m\u001b[43m \u001b[49m\u001b[43mcaptured_inputs\u001b[49m\u001b[38;5;241;43m=\u001b[39;49m\u001b[43mfunction\u001b[49m\u001b[38;5;241;43m.\u001b[39;49m\u001b[43mcaptured_inputs\u001b[49m\n\u001b[1;32m    141\u001b[0m \u001b[43m\u001b[49m\u001b[43m)\u001b[49m\n",
      "File \u001b[0;32m~/Documents/Dev-A.I./Project-TFE/.venv/lib/python3.12/site-packages/tensorflow/python/eager/polymorphic_function/concrete_function.py:1322\u001b[0m, in \u001b[0;36mConcreteFunction._call_flat\u001b[0;34m(self, tensor_inputs, captured_inputs)\u001b[0m\n\u001b[1;32m   1318\u001b[0m possible_gradient_type \u001b[38;5;241m=\u001b[39m gradients_util\u001b[38;5;241m.\u001b[39mPossibleTapeGradientTypes(args)\n\u001b[1;32m   1319\u001b[0m \u001b[38;5;28;01mif\u001b[39;00m (possible_gradient_type \u001b[38;5;241m==\u001b[39m gradients_util\u001b[38;5;241m.\u001b[39mPOSSIBLE_GRADIENT_TYPES_NONE\n\u001b[1;32m   1320\u001b[0m     \u001b[38;5;129;01mand\u001b[39;00m executing_eagerly):\n\u001b[1;32m   1321\u001b[0m   \u001b[38;5;66;03m# No tape is watching; skip to running the function.\u001b[39;00m\n\u001b[0;32m-> 1322\u001b[0m   \u001b[38;5;28;01mreturn\u001b[39;00m \u001b[38;5;28;43mself\u001b[39;49m\u001b[38;5;241;43m.\u001b[39;49m\u001b[43m_inference_function\u001b[49m\u001b[38;5;241;43m.\u001b[39;49m\u001b[43mcall_preflattened\u001b[49m\u001b[43m(\u001b[49m\u001b[43margs\u001b[49m\u001b[43m)\u001b[49m\n\u001b[1;32m   1323\u001b[0m forward_backward \u001b[38;5;241m=\u001b[39m \u001b[38;5;28mself\u001b[39m\u001b[38;5;241m.\u001b[39m_select_forward_and_backward_functions(\n\u001b[1;32m   1324\u001b[0m     args,\n\u001b[1;32m   1325\u001b[0m     possible_gradient_type,\n\u001b[1;32m   1326\u001b[0m     executing_eagerly)\n\u001b[1;32m   1327\u001b[0m forward_function, args_with_tangents \u001b[38;5;241m=\u001b[39m forward_backward\u001b[38;5;241m.\u001b[39mforward()\n",
      "File \u001b[0;32m~/Documents/Dev-A.I./Project-TFE/.venv/lib/python3.12/site-packages/tensorflow/python/eager/polymorphic_function/atomic_function.py:216\u001b[0m, in \u001b[0;36mAtomicFunction.call_preflattened\u001b[0;34m(self, args)\u001b[0m\n\u001b[1;32m    214\u001b[0m \u001b[38;5;28;01mdef\u001b[39;00m \u001b[38;5;21mcall_preflattened\u001b[39m(\u001b[38;5;28mself\u001b[39m, args: Sequence[core\u001b[38;5;241m.\u001b[39mTensor]) \u001b[38;5;241m-\u001b[39m\u001b[38;5;241m>\u001b[39m Any:\n\u001b[1;32m    215\u001b[0m \u001b[38;5;250m  \u001b[39m\u001b[38;5;124;03m\"\"\"Calls with flattened tensor inputs and returns the structured output.\"\"\"\u001b[39;00m\n\u001b[0;32m--> 216\u001b[0m   flat_outputs \u001b[38;5;241m=\u001b[39m \u001b[38;5;28;43mself\u001b[39;49m\u001b[38;5;241;43m.\u001b[39;49m\u001b[43mcall_flat\u001b[49m\u001b[43m(\u001b[49m\u001b[38;5;241;43m*\u001b[39;49m\u001b[43margs\u001b[49m\u001b[43m)\u001b[49m\n\u001b[1;32m    217\u001b[0m   \u001b[38;5;28;01mreturn\u001b[39;00m \u001b[38;5;28mself\u001b[39m\u001b[38;5;241m.\u001b[39mfunction_type\u001b[38;5;241m.\u001b[39mpack_output(flat_outputs)\n",
      "File \u001b[0;32m~/Documents/Dev-A.I./Project-TFE/.venv/lib/python3.12/site-packages/tensorflow/python/eager/polymorphic_function/atomic_function.py:251\u001b[0m, in \u001b[0;36mAtomicFunction.call_flat\u001b[0;34m(self, *args)\u001b[0m\n\u001b[1;32m    249\u001b[0m \u001b[38;5;28;01mwith\u001b[39;00m record\u001b[38;5;241m.\u001b[39mstop_recording():\n\u001b[1;32m    250\u001b[0m   \u001b[38;5;28;01mif\u001b[39;00m \u001b[38;5;28mself\u001b[39m\u001b[38;5;241m.\u001b[39m_bound_context\u001b[38;5;241m.\u001b[39mexecuting_eagerly():\n\u001b[0;32m--> 251\u001b[0m     outputs \u001b[38;5;241m=\u001b[39m \u001b[38;5;28;43mself\u001b[39;49m\u001b[38;5;241;43m.\u001b[39;49m\u001b[43m_bound_context\u001b[49m\u001b[38;5;241;43m.\u001b[39;49m\u001b[43mcall_function\u001b[49m\u001b[43m(\u001b[49m\n\u001b[1;32m    252\u001b[0m \u001b[43m        \u001b[49m\u001b[38;5;28;43mself\u001b[39;49m\u001b[38;5;241;43m.\u001b[39;49m\u001b[43mname\u001b[49m\u001b[43m,\u001b[49m\n\u001b[1;32m    253\u001b[0m \u001b[43m        \u001b[49m\u001b[38;5;28;43mlist\u001b[39;49m\u001b[43m(\u001b[49m\u001b[43margs\u001b[49m\u001b[43m)\u001b[49m\u001b[43m,\u001b[49m\n\u001b[1;32m    254\u001b[0m \u001b[43m        \u001b[49m\u001b[38;5;28;43mlen\u001b[39;49m\u001b[43m(\u001b[49m\u001b[38;5;28;43mself\u001b[39;49m\u001b[38;5;241;43m.\u001b[39;49m\u001b[43mfunction_type\u001b[49m\u001b[38;5;241;43m.\u001b[39;49m\u001b[43mflat_outputs\u001b[49m\u001b[43m)\u001b[49m\u001b[43m,\u001b[49m\n\u001b[1;32m    255\u001b[0m \u001b[43m    \u001b[49m\u001b[43m)\u001b[49m\n\u001b[1;32m    256\u001b[0m   \u001b[38;5;28;01melse\u001b[39;00m:\n\u001b[1;32m    257\u001b[0m     outputs \u001b[38;5;241m=\u001b[39m make_call_op_in_graph(\n\u001b[1;32m    258\u001b[0m         \u001b[38;5;28mself\u001b[39m,\n\u001b[1;32m    259\u001b[0m         \u001b[38;5;28mlist\u001b[39m(args),\n\u001b[1;32m    260\u001b[0m         \u001b[38;5;28mself\u001b[39m\u001b[38;5;241m.\u001b[39m_bound_context\u001b[38;5;241m.\u001b[39mfunction_call_options\u001b[38;5;241m.\u001b[39mas_attrs(),\n\u001b[1;32m    261\u001b[0m     )\n",
      "File \u001b[0;32m~/Documents/Dev-A.I./Project-TFE/.venv/lib/python3.12/site-packages/tensorflow/python/eager/context.py:1500\u001b[0m, in \u001b[0;36mContext.call_function\u001b[0;34m(self, name, tensor_inputs, num_outputs)\u001b[0m\n\u001b[1;32m   1498\u001b[0m cancellation_context \u001b[38;5;241m=\u001b[39m cancellation\u001b[38;5;241m.\u001b[39mcontext()\n\u001b[1;32m   1499\u001b[0m \u001b[38;5;28;01mif\u001b[39;00m cancellation_context \u001b[38;5;129;01mis\u001b[39;00m \u001b[38;5;28;01mNone\u001b[39;00m:\n\u001b[0;32m-> 1500\u001b[0m   outputs \u001b[38;5;241m=\u001b[39m \u001b[43mexecute\u001b[49m\u001b[38;5;241;43m.\u001b[39;49m\u001b[43mexecute\u001b[49m\u001b[43m(\u001b[49m\n\u001b[1;32m   1501\u001b[0m \u001b[43m      \u001b[49m\u001b[43mname\u001b[49m\u001b[38;5;241;43m.\u001b[39;49m\u001b[43mdecode\u001b[49m\u001b[43m(\u001b[49m\u001b[38;5;124;43m\"\u001b[39;49m\u001b[38;5;124;43mutf-8\u001b[39;49m\u001b[38;5;124;43m\"\u001b[39;49m\u001b[43m)\u001b[49m\u001b[43m,\u001b[49m\n\u001b[1;32m   1502\u001b[0m \u001b[43m      \u001b[49m\u001b[43mnum_outputs\u001b[49m\u001b[38;5;241;43m=\u001b[39;49m\u001b[43mnum_outputs\u001b[49m\u001b[43m,\u001b[49m\n\u001b[1;32m   1503\u001b[0m \u001b[43m      \u001b[49m\u001b[43minputs\u001b[49m\u001b[38;5;241;43m=\u001b[39;49m\u001b[43mtensor_inputs\u001b[49m\u001b[43m,\u001b[49m\n\u001b[1;32m   1504\u001b[0m \u001b[43m      \u001b[49m\u001b[43mattrs\u001b[49m\u001b[38;5;241;43m=\u001b[39;49m\u001b[43mattrs\u001b[49m\u001b[43m,\u001b[49m\n\u001b[1;32m   1505\u001b[0m \u001b[43m      \u001b[49m\u001b[43mctx\u001b[49m\u001b[38;5;241;43m=\u001b[39;49m\u001b[38;5;28;43mself\u001b[39;49m\u001b[43m,\u001b[49m\n\u001b[1;32m   1506\u001b[0m \u001b[43m  \u001b[49m\u001b[43m)\u001b[49m\n\u001b[1;32m   1507\u001b[0m \u001b[38;5;28;01melse\u001b[39;00m:\n\u001b[1;32m   1508\u001b[0m   outputs \u001b[38;5;241m=\u001b[39m execute\u001b[38;5;241m.\u001b[39mexecute_with_cancellation(\n\u001b[1;32m   1509\u001b[0m       name\u001b[38;5;241m.\u001b[39mdecode(\u001b[38;5;124m\"\u001b[39m\u001b[38;5;124mutf-8\u001b[39m\u001b[38;5;124m\"\u001b[39m),\n\u001b[1;32m   1510\u001b[0m       num_outputs\u001b[38;5;241m=\u001b[39mnum_outputs,\n\u001b[0;32m   (...)\u001b[0m\n\u001b[1;32m   1514\u001b[0m       cancellation_manager\u001b[38;5;241m=\u001b[39mcancellation_context,\n\u001b[1;32m   1515\u001b[0m   )\n",
      "File \u001b[0;32m~/Documents/Dev-A.I./Project-TFE/.venv/lib/python3.12/site-packages/tensorflow/python/eager/execute.py:53\u001b[0m, in \u001b[0;36mquick_execute\u001b[0;34m(op_name, num_outputs, inputs, attrs, ctx, name)\u001b[0m\n\u001b[1;32m     51\u001b[0m \u001b[38;5;28;01mtry\u001b[39;00m:\n\u001b[1;32m     52\u001b[0m   ctx\u001b[38;5;241m.\u001b[39mensure_initialized()\n\u001b[0;32m---> 53\u001b[0m   tensors \u001b[38;5;241m=\u001b[39m \u001b[43mpywrap_tfe\u001b[49m\u001b[38;5;241;43m.\u001b[39;49m\u001b[43mTFE_Py_Execute\u001b[49m\u001b[43m(\u001b[49m\u001b[43mctx\u001b[49m\u001b[38;5;241;43m.\u001b[39;49m\u001b[43m_handle\u001b[49m\u001b[43m,\u001b[49m\u001b[43m \u001b[49m\u001b[43mdevice_name\u001b[49m\u001b[43m,\u001b[49m\u001b[43m \u001b[49m\u001b[43mop_name\u001b[49m\u001b[43m,\u001b[49m\n\u001b[1;32m     54\u001b[0m \u001b[43m                                      \u001b[49m\u001b[43minputs\u001b[49m\u001b[43m,\u001b[49m\u001b[43m \u001b[49m\u001b[43mattrs\u001b[49m\u001b[43m,\u001b[49m\u001b[43m \u001b[49m\u001b[43mnum_outputs\u001b[49m\u001b[43m)\u001b[49m\n\u001b[1;32m     55\u001b[0m \u001b[38;5;28;01mexcept\u001b[39;00m core\u001b[38;5;241m.\u001b[39m_NotOkStatusException \u001b[38;5;28;01mas\u001b[39;00m e:\n\u001b[1;32m     56\u001b[0m   \u001b[38;5;28;01mif\u001b[39;00m name \u001b[38;5;129;01mis\u001b[39;00m \u001b[38;5;129;01mnot\u001b[39;00m \u001b[38;5;28;01mNone\u001b[39;00m:\n",
      "\u001b[0;31mKeyboardInterrupt\u001b[0m: "
     ]
    }
   ],
   "source": [
    "model.fit(X_train, y_train, epochs=10, batch_size=16)"
   ]
  },
  {
   "cell_type": "code",
   "execution_count": 59,
   "metadata": {},
   "outputs": [
    {
     "name": "stdout",
     "output_type": "stream",
     "text": [
      "\u001b[1m5/5\u001b[0m \u001b[32m━━━━━━━━━━━━━━━━━━━━\u001b[0m\u001b[37m\u001b[0m \u001b[1m1s\u001b[0m 170ms/step\n"
     ]
    }
   ],
   "source": [
    "y_pred = model.predict(X_test)"
   ]
  },
  {
   "cell_type": "code",
   "execution_count": null,
   "metadata": {},
   "outputs": [
    {
     "data": {
      "text/plain": [
       "array([[0.40849   , 0.3244876 , 0.2670224 ],\n",
       "       [0.45227906, 0.2859702 , 0.26175076],\n",
       "       [0.38941985, 0.32769957, 0.28288054],\n",
       "       [0.40772465, 0.30805784, 0.28421745],\n",
       "       [0.41013756, 0.3100738 , 0.27978855],\n",
       "       [0.41337848, 0.27964452, 0.30697712],\n",
       "       [0.39940256, 0.29871324, 0.30188408],\n",
       "       [0.38690895, 0.3440143 , 0.26907673],\n",
       "       [0.43019292, 0.28479832, 0.28500888],\n",
       "       [0.4329867 , 0.28141865, 0.28559455],\n",
       "       [0.4448497 , 0.2753168 , 0.27983335],\n",
       "       [0.38362023, 0.30904174, 0.30733806],\n",
       "       [0.41872993, 0.3083438 , 0.2729263 ],\n",
       "       [0.4210206 , 0.2732366 , 0.30574268],\n",
       "       [0.40952384, 0.30069542, 0.2897808 ],\n",
       "       [0.4079561 , 0.28678715, 0.30525672],\n",
       "       [0.4297366 , 0.28539684, 0.28486645],\n",
       "       [0.376343  , 0.33726135, 0.28639567],\n",
       "       [0.41715616, 0.27400813, 0.3088357 ],\n",
       "       [0.40885988, 0.28054875, 0.31059122],\n",
       "       [0.4133968 , 0.29888412, 0.28771898],\n",
       "       [0.44291437, 0.30053517, 0.25655046],\n",
       "       [0.41729283, 0.2669624 , 0.31574485],\n",
       "       [0.41314554, 0.2896776 , 0.29717687],\n",
       "       [0.42223847, 0.31561953, 0.26214203],\n",
       "       [0.41372544, 0.27586263, 0.3104118 ],\n",
       "       [0.43094027, 0.26537725, 0.30368254],\n",
       "       [0.39334834, 0.30229652, 0.30435503],\n",
       "       [0.4028994 , 0.33442712, 0.2626734 ],\n",
       "       [0.42755657, 0.29266602, 0.27977723],\n",
       "       [0.39267147, 0.30145282, 0.30587575],\n",
       "       [0.4247974 , 0.2729016 , 0.30230108],\n",
       "       [0.4182835 , 0.29884103, 0.28287563],\n",
       "       [0.45885316, 0.23467802, 0.30646878],\n",
       "       [0.36000457, 0.33131632, 0.30867904],\n",
       "       [0.4442026 , 0.2800953 , 0.27570212],\n",
       "       [0.42709383, 0.29288214, 0.280024  ],\n",
       "       [0.40063992, 0.28600124, 0.31335893],\n",
       "       [0.41541663, 0.27481484, 0.3097685 ],\n",
       "       [0.42866576, 0.27557856, 0.29575562],\n",
       "       [0.38755804, 0.3149838 , 0.29745826],\n",
       "       [0.4524341 , 0.2674113 , 0.28015456],\n",
       "       [0.41375715, 0.27458826, 0.31165466],\n",
       "       [0.4085868 , 0.29127854, 0.3001347 ],\n",
       "       [0.4349978 , 0.28036264, 0.28463945],\n",
       "       [0.41928318, 0.2871676 , 0.29354933],\n",
       "       [0.3863391 , 0.28233445, 0.33132648],\n",
       "       [0.44360742, 0.27543598, 0.28095657],\n",
       "       [0.37804762, 0.32621342, 0.295739  ],\n",
       "       [0.4093305 , 0.3093796 , 0.28128988],\n",
       "       [0.42320374, 0.28809774, 0.28869858],\n",
       "       [0.4068876 , 0.29772907, 0.29538333],\n",
       "       [0.41474864, 0.25411615, 0.33113515],\n",
       "       [0.42126623, 0.28973356, 0.28900024],\n",
       "       [0.39548883, 0.282869  , 0.32164207],\n",
       "       [0.4143914 , 0.29773173, 0.2878769 ],\n",
       "       [0.42133704, 0.31162694, 0.26703608],\n",
       "       [0.40210536, 0.29971993, 0.29817468],\n",
       "       [0.4532325 , 0.25904265, 0.28772485],\n",
       "       [0.40329063, 0.2872085 , 0.30950096],\n",
       "       [0.41103297, 0.31174588, 0.27722102],\n",
       "       [0.43271613, 0.27577892, 0.29150495],\n",
       "       [0.38873395, 0.2983076 , 0.31295845],\n",
       "       [0.4675347 , 0.24723873, 0.2852266 ],\n",
       "       [0.42643446, 0.28117204, 0.29239348],\n",
       "       [0.4043038 , 0.3228922 , 0.27280405],\n",
       "       [0.431665  , 0.28456503, 0.28376988],\n",
       "       [0.41895968, 0.26758868, 0.31345174],\n",
       "       [0.4317896 , 0.2797538 , 0.28845662],\n",
       "       [0.37446153, 0.33524203, 0.29029638],\n",
       "       [0.41745394, 0.2786688 , 0.30387717],\n",
       "       [0.45304072, 0.26645795, 0.28050134],\n",
       "       [0.40527466, 0.29140082, 0.30332452],\n",
       "       [0.38167137, 0.33601004, 0.28231853],\n",
       "       [0.42209396, 0.2872571 , 0.2906489 ],\n",
       "       [0.38556862, 0.27742505, 0.33700627],\n",
       "       [0.4491893 , 0.26201168, 0.28879917],\n",
       "       [0.40562063, 0.2991207 , 0.2952586 ],\n",
       "       [0.44191867, 0.2806103 , 0.27747107],\n",
       "       [0.40370515, 0.26537076, 0.3309241 ],\n",
       "       [0.4086281 , 0.29019564, 0.30117625],\n",
       "       [0.41544378, 0.29003853, 0.2945177 ],\n",
       "       [0.41509417, 0.2902465 , 0.29465932],\n",
       "       [0.41365418, 0.29202792, 0.2943178 ],\n",
       "       [0.41501138, 0.28931126, 0.29567745],\n",
       "       [0.41037652, 0.29395205, 0.29567152],\n",
       "       [0.41531086, 0.2897693 , 0.29491988],\n",
       "       [0.41437113, 0.29204524, 0.29358348],\n",
       "       [0.41769263, 0.2890793 , 0.29322803],\n",
       "       [0.4144697 , 0.28980136, 0.29572892],\n",
       "       [0.41403553, 0.29172978, 0.2942347 ],\n",
       "       [0.41319415, 0.29160106, 0.2952047 ],\n",
       "       [0.41815567, 0.28909644, 0.2927479 ],\n",
       "       [0.41231254, 0.2926973 , 0.29499018],\n",
       "       [0.4107975 , 0.29253155, 0.29667085],\n",
       "       [0.41308245, 0.29382604, 0.29309145],\n",
       "       [0.4164978 , 0.28993297, 0.29356924],\n",
       "       [0.40995735, 0.29518607, 0.29485658],\n",
       "       [0.4160127 , 0.2905431 , 0.29344425],\n",
       "       [0.41336653, 0.29046202, 0.29617146],\n",
       "       [0.4179914 , 0.28898314, 0.29302537],\n",
       "       [0.41862062, 0.28988189, 0.29149747],\n",
       "       [0.41299114, 0.29278487, 0.29422393],\n",
       "       [0.41154033, 0.2940898 , 0.2943698 ],\n",
       "       [0.4189506 , 0.28861254, 0.29243678],\n",
       "       [0.41521493, 0.29149273, 0.2932923 ],\n",
       "       [0.4154704 , 0.29056907, 0.29396054],\n",
       "       [0.41516787, 0.28927606, 0.29555607],\n",
       "       [0.41273445, 0.29159743, 0.2956682 ],\n",
       "       [0.41351274, 0.29332316, 0.29316407],\n",
       "       [0.42076182, 0.28758684, 0.29165137],\n",
       "       [0.41246793, 0.2919779 , 0.29555425],\n",
       "       [0.4175527 , 0.28758925, 0.29485807],\n",
       "       [0.4151873 , 0.28921318, 0.2955995 ],\n",
       "       [0.41537663, 0.2915558 , 0.29306749],\n",
       "       [0.41670644, 0.29001746, 0.2932761 ],\n",
       "       [0.41867736, 0.28750437, 0.29381818],\n",
       "       [0.41654602, 0.29026216, 0.2931919 ],\n",
       "       [0.4145614 , 0.29004702, 0.29539153],\n",
       "       [0.41118845, 0.2945776 , 0.29423395],\n",
       "       [0.41503295, 0.29161996, 0.29334715],\n",
       "       [0.4153345 , 0.29120335, 0.29346216],\n",
       "       [0.4149563 , 0.29001877, 0.2950249 ],\n",
       "       [0.41466162, 0.2922737 , 0.2930646 ],\n",
       "       [0.41260183, 0.29214612, 0.295252  ],\n",
       "       [0.4137853 , 0.29263958, 0.29357505],\n",
       "       [0.41503155, 0.29189613, 0.2930723 ],\n",
       "       [0.4157933 , 0.28965998, 0.2945467 ],\n",
       "       [0.4159953 , 0.29175264, 0.29225212],\n",
       "       [0.41160965, 0.29369882, 0.2946916 ],\n",
       "       [0.41489804, 0.29044348, 0.29465845],\n",
       "       [0.412861  , 0.29472208, 0.29241687],\n",
       "       [0.4121594 , 0.29207164, 0.29576895],\n",
       "       [0.41927058, 0.2882519 , 0.29247746],\n",
       "       [0.41398266, 0.29247728, 0.29354   ],\n",
       "       [0.414869  , 0.2922443 , 0.29288676],\n",
       "       [0.41156742, 0.29401168, 0.294421  ],\n",
       "       [0.41539812, 0.29059422, 0.2940076 ],\n",
       "       [0.41335148, 0.29220232, 0.2944461 ],\n",
       "       [0.4152618 , 0.2894823 , 0.29525596],\n",
       "       [0.41559872, 0.28937218, 0.295029  ],\n",
       "       [0.41730615, 0.28917345, 0.29352033],\n",
       "       [0.4099393 , 0.29236495, 0.2976957 ],\n",
       "       [0.41681847, 0.2895457 , 0.2936358 ],\n",
       "       [0.41198662, 0.292758  , 0.29525536],\n",
       "       [0.41453066, 0.2906694 , 0.29479998],\n",
       "       [0.4145815 , 0.29041964, 0.2949988 ],\n",
       "       [0.41594312, 0.28956288, 0.29449394],\n",
       "       [0.41421428, 0.28889054, 0.29689503],\n",
       "       [0.4164708 , 0.29172233, 0.29180694],\n",
       "       [0.41646886, 0.28941116, 0.29411995],\n",
       "       [0.40984854, 0.29421577, 0.2959357 ],\n",
       "       [0.41601965, 0.28981623, 0.29416412],\n",
       "       [0.41484562, 0.2900688 , 0.29508552],\n",
       "       [0.41493142, 0.29275706, 0.2923115 ],\n",
       "       [0.41579032, 0.29061395, 0.29359564],\n",
       "       [0.41424635, 0.2904952 , 0.2952584 ],\n",
       "       [0.40766582, 0.29529935, 0.29703486]], dtype=float32)"
      ]
     },
     "execution_count": 70,
     "metadata": {},
     "output_type": "execute_result"
    }
   ],
   "source": [
    "y_pred_classes = np.argmax(y_pred)"
   ]
  },
  {
   "cell_type": "code",
   "execution_count": 63,
   "metadata": {},
   "outputs": [
    {
     "data": {
      "text/plain": [
       "array([0, 0, 0, 0, 0, 0, 0, 0, 0, 0, 0, 0, 0, 0, 0, 0, 0, 0, 0, 0, 0, 0,\n",
       "       0, 0, 0, 0, 0, 0, 0, 0, 0, 0, 0, 0, 0, 0, 0, 0, 0, 0, 0, 0, 0, 0,\n",
       "       0, 0, 0, 0, 0, 0, 0, 0, 0, 0, 0, 0, 0, 0, 0, 0, 0, 0, 0, 0, 0, 0,\n",
       "       0, 0, 0, 0, 0, 0, 0, 0, 0, 0, 0, 0, 0, 0, 0, 0, 0, 0, 0, 0, 0, 0,\n",
       "       0, 0, 0, 0, 0, 0, 0, 0, 0, 0, 0, 0, 0, 0, 0, 0, 0, 0, 0, 0, 0, 0,\n",
       "       0, 0, 0, 0, 0, 0, 0, 0, 0, 0, 0, 0, 0, 0, 0, 0, 0, 0, 0, 0, 0, 0,\n",
       "       0, 0, 0, 0, 0, 0, 0, 0, 0, 0, 0, 0, 0, 0, 0, 0, 0, 0, 0, 0, 0, 0,\n",
       "       0, 0, 0, 0])"
      ]
     },
     "execution_count": 63,
     "metadata": {},
     "output_type": "execute_result"
    }
   ],
   "source": [
    "y_pred_classes"
   ]
  },
  {
   "cell_type": "code",
   "execution_count": 69,
   "metadata": {},
   "outputs": [
    {
     "data": {
      "text/plain": [
       "0.4873417721518987"
      ]
     },
     "execution_count": 69,
     "metadata": {},
     "output_type": "execute_result"
    }
   ],
   "source": [
    "sum((y_test -1) == y_pred_classes) / len(y_test)"
   ]
  },
  {
   "cell_type": "code",
   "execution_count": 30,
   "metadata": {},
   "outputs": [],
   "source": [
    "def get_model(n_class: int, activation: str = 'relu') -> tf.keras.Sequential:\n",
    "    model = tf.keras.Sequential()\n",
    "\n",
    "\n",
    "    model.add(Convolution1D(32,7,strides=1,activation='relu'))\n",
    "    model.add(Conv1D(32,7,strides=1,activation='relu'))\n",
    "    model.add(BatchNormalization())\n",
    "\n",
    "    model.add(layers.MaxPooling1D(pool_size=2))\n",
    "    model.add(Dropout(0.3))\n",
    "    model.add(Conv1D(64,5,strides=1,activation='relu'))\n",
    "    model.add(Conv1D(64,5,strides=1,activation='relu'))\n",
    "    model.add(BatchNormalization())\n",
    "    model.add(layers.MaxPooling1D(pool_size =2))\n",
    "    model.add(Dropout(0.3))\n",
    "    model.add(Conv1D(128,3,strides=1,activation='relu'))\n",
    "    model.add(BatchNormalization())\n",
    "    model.add(layers.MaxPooling1D(pool_size =2))\n",
    "    model.add(Dropout(0.3))\n",
    "\n",
    "\n",
    "\n",
    "    model.add(Flatten())\n",
    "\n",
    "\n",
    "\n",
    "\n",
    "    model.add(Dense(units=128, activation=activation))\n",
    "\n",
    "    model.add(Dense(units=64,activation=activation))"
   ]
  }
 ],
 "metadata": {
  "kernelspec": {
   "display_name": ".venv",
   "language": "python",
   "name": "python3"
  },
  "language_info": {
   "codemirror_mode": {
    "name": "ipython",
    "version": 3
   },
   "file_extension": ".py",
   "mimetype": "text/x-python",
   "name": "python",
   "nbconvert_exporter": "python",
   "pygments_lexer": "ipython3",
   "version": "3.12.7"
  }
 },
 "nbformat": 4,
 "nbformat_minor": 2
}
