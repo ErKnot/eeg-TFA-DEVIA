{
 "cells": [
  {
   "cell_type": "code",
   "execution_count": null,
   "metadata": {},
   "outputs": [],
   "source": [
    "import numpy as np\n",
    "import matplotlib.pyplot as plt\n",
    "from matplotlib import gridspec\n",
    "\n",
    "# mne library to analyse EEG\n",
    "import mne\n",
    "from mne import Epochs, pick_types\n",
    "from mne.channels import make_standard_montage\n",
    "from mne.datasets import eegbci\n",
    "from mne.decoding import CSP\n",
    "from mne.io import concatenate_raws, read_raw_edf\n",
    "mne.set_log_level('error') # Avoid long log"
   ]
  },
  {
   "cell_type": "code",
   "execution_count": null,
   "metadata": {},
   "outputs": [],
   "source": [
    "# Get the path to the data\n",
    "def file_path(participant, run):\n",
    "    return f'files/S{participant:03}/S{participant:03}R{run:02}.edf'"
   ]
  },
  {
   "cell_type": "code",
   "execution_count": null,
   "metadata": {},
   "outputs": [],
   "source": [
    "# Create a list with each tipe of experimental run\n",
    "openeye_runs = [1]\n",
    "closedeye_runs = [2]\n",
    "fists_runs = [3, 7, 11]\n",
    "imaginefists_runs = [4, 8, 12]\n",
    "fistsfeet_runs = [5, 9, 13]\n",
    "imaginefistsfeet_run = [6, 10, 14]\n",
    "\n",
    "# Load the data\n",
    "# Preload = True charges also the data, not just the headers\n",
    "raws = concatenate_raws([read_raw_edf(file_path(participant, run), preload = True) for participant in range(1,11) for run in fists_runs])\n",
    "\n",
    "# We choose the \"Standard_1020\" montage\n",
    "montage = make_standard_montage(\"standard_1020\")\n",
    "\n",
    "\n",
    "# Here we change the names of the electrode to match the standard notation and set the choosen montage on the raw data charged.\n",
    "\n",
    "# Dictionary with the structure old_name : correct_cases_name. To respect the upper and lower cases of the standard notation for the electrde's position.\n",
    "replacement = {\n",
    "    'Fc': 'FC',\n",
    "    'Cp': 'CP',\n",
    "    'Af': 'AF',\n",
    "    'Ft': 'FT',\n",
    "    'Tp': 'TP',\n",
    "    'Po': 'PO'   \n",
    "}\n",
    "\n",
    "# new_name is the dictionary to use to cange the name of the electrode's positions to respect the usual sandard notataions.\n",
    "# First get rid of the excessive \".\" \n",
    "new_names = {\n",
    "    name : name.replace(\".\", \"\") for name in raw.info['ch_names']\n",
    "}   \n",
    "\n",
    "# Change the lower and upper case of the electrode's names\n",
    "for key in new_names.keys():\n",
    "    for old_string, new_string in replacement.items():\n",
    "        new_names[key] = new_names[key].replace(old_string, new_string)\n",
    "\n",
    "\n",
    "# Choose the montage and set it for the uploaded data\n",
    "# montage = 'standard_1020'\n",
    "for raw in raws:\n",
    "    raw.rename_channels(new_names)\n",
    "    raw.set_montage(montage)\n",
    "\n",
    "low_cut = 0.1 # We filter the low frequency to remove slow drift\n",
    "high_cut = 30 # We filter the high frequency to eliminate noise, and because the motor signals appears mostly as alpha and beta waves\n",
    "\n",
    "# copy the raw data and apply the filter\n",
    "raws_filt = [raw.load_data().copy().filter(low_cut, high_cut) for raw in raws]"
   ]
  }
 ],
 "metadata": {
  "kernelspec": {
   "display_name": "mne",
   "language": "python",
   "name": "python3"
  },
  "language_info": {
   "name": "python",
   "version": "3.12.7"
  }
 },
 "nbformat": 4,
 "nbformat_minor": 2
}
